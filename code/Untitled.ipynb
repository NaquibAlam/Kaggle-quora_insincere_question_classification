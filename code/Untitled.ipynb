{
 "cells": [
  {
   "cell_type": "code",
   "execution_count": null,
   "metadata": {
    "collapsed": true
   },
   "outputs": [],
   "source": [
    "def extend_embed(embed_dict, vocab_size):\n",
    "    all_embs = np.stack(embed_dict.values())\n",
    "    emb_mean,emb_std = all_embs.mean(), all_embs.std()\n",
    "    embed_size = all_embs.shape[1]\n",
    "    word_index = tokenizer.word_index\n",
    "    nb_words = min(vocab_size, len(word_index))\n",
    "    embedding_matrix = np.random.normal(emb_mean, emb_std, (nb_words, embed_size))\n",
    "    for word, i in word_index.items():\n",
    "        if i >= vocab_size: continue\n",
    "        embedding_vector = embed_dict.get(word)\n",
    "        if embedding_vector is not None: embedding_matrix[i] = embedding_vector"
   ]
  },
  {
   "cell_type": "code",
   "execution_count": null,
   "metadata": {
    "collapsed": true
   },
   "outputs": [],
   "source": [
    "embedding_matrix= np.concatenate((glove_embed_matrix, wiki_embed_matrix), axis=1)\n",
    "embedding_matrix= np.mean((glove_embed_matrix, wiki_embed_matrix, google_embed_matrix), axis=0)\n"
   ]
  },
  {
   "cell_type": "code",
   "execution_count": null,
   "metadata": {
    "collapsed": true
   },
   "outputs": [],
   "source": [
    "## Indirect features\n",
    "\n",
    "#Sentense count in each comment:\n",
    "def add_meta_features(df):\n",
    "    # '\\n' can be used to count the number of sentences in each comment\n",
    "    df['count_sent']=df[\"comment_text\"].apply(lambda x: len(re.findall(\"\\n\",str(x)))+1)\n",
    "    #Word count in each comment:\n",
    "    df['count_word']=df[\"comment_text\"].apply(lambda x: len(str(x).split()))\n",
    "    #Unique word count\n",
    "    df['count_unique_word']=df[\"comment_text\"].apply(lambda x: len(set(str(x).split())))\n",
    "    #Letter count\n",
    "    df['count_letters']=df[\"comment_text\"].apply(lambda x: len(str(x)))\n",
    "    #punctuation count\n",
    "    df[\"count_punctuations\"] =df[\"comment_text\"].apply(lambda x: len([c for c in str(x) if c in string.punctuation]))\n",
    "    #upper case words count\n",
    "    df[\"count_words_upper\"] = df[\"comment_text\"].apply(lambda x: len([w for w in str(x).split() if w.isupper()]))\n",
    "    #title case words count\n",
    "    df[\"count_words_title\"] = df[\"comment_text\"].apply(lambda x: len([w for w in str(x).split() if w.istitle()]))\n",
    "    #Number of stopwords\n",
    "    df[\"count_stopwords\"] = df[\"comment_text\"].apply(lambda x: len([w for w in str(x).lower().split() if w in stop_words]))\n",
    "    #Average length of the words\n",
    "    df[\"mean_word_len\"] = df[\"comment_text\"].apply(lambda x: np.mean([len(w) for w in str(x).split()]))\n",
    "    return df\n"
   ]
  },
  {
   "cell_type": "code",
   "execution_count": null,
   "metadata": {
    "collapsed": true
   },
   "outputs": [],
   "source": [
    "train_meta_feat= train.iloc[:,9:].values\n",
    "test_meta_feat= test.iloc[:,3:].values\n",
    "n_meta_feat= train_meta_feat.shape[1]"
   ]
  },
  {
   "cell_type": "code",
   "execution_count": null,
   "metadata": {
    "collapsed": true
   },
   "outputs": [],
   "source": [
    "embed_size= embedding_matrix.shape[1]\n",
    "inp = Input(shape=(maxlen,))\n",
    "# x = Embedding(vocab_size, embed_size, weights=[embedding_matrix], trainable= False)(inp)\n",
    "x = Embedding(vocab_size, embed_size, weights=[embedding_matrix])(inp)\n",
    "x = Bidirectional(LSTM(50, return_sequences=True, dropout=0.1, recurrent_dropout=0.1))(x)\n",
    "x = GlobalMaxPool1D()(x)\n",
    "meta_inp= Input(shape= (n_meta_feat,))\n",
    "x= concatenate([x, meta_inp])\n",
    "x = Dense(50, activation=\"relu\")(x)\n",
    "x = Dropout(0.1)(x)\n",
    "x = Dense(6, activation=\"sigmoid\")(x)\n",
    "model = Model(inputs=[inp, meta_inp], outputs=x)\n",
    "model.compile(loss='binary_crossentropy', optimizer='adam', metrics=['accuracy'])"
   ]
  },
  {
   "cell_type": "code",
   "execution_count": null,
   "metadata": {
    "collapsed": true
   },
   "outputs": [],
   "source": [
    "embed_size= embedding_matrix.shape[1]\n",
    "inp = Input(shape=(maxlen,))\n",
    "x = Embedding(vocab_size, embed_size, weights=[embedding_matrix])(inp)\n",
    "x = SpatialDropout1D(0.3)(x)\n",
    "x = Bidirectional(GRU(128, return_sequences=True))(x)\n",
    "avg_pool = GlobalAveragePooling1D()(x)\n",
    "max_pool = GlobalMaxPooling1D()(x)\n",
    "meta_inp= Input(shape= (n_meta_feat,))\n",
    "x = concatenate([avg_pool, max_pool, meta_inp])\n",
    "x = Dense(16, activation=\"relu\")(x)\n",
    "x = Dropout(0.1)(x)\n",
    "x = Dense(6, activation=\"sigmoid\")(x)\n",
    "model = Model(inputs=[inp, meta_inp], outputs=x)\n",
    "model.compile(loss='binary_crossentropy', optimizer='adam', metrics=['accuracy'])"
   ]
  }
 ],
 "metadata": {
  "kernelspec": {
   "display_name": "Python 3",
   "language": "python",
   "name": "python3"
  },
  "language_info": {
   "codemirror_mode": {
    "name": "ipython",
    "version": 3
   },
   "file_extension": ".py",
   "mimetype": "text/x-python",
   "name": "python",
   "nbconvert_exporter": "python",
   "pygments_lexer": "ipython3",
   "version": "3.6.3"
  }
 },
 "nbformat": 4,
 "nbformat_minor": 2
}
